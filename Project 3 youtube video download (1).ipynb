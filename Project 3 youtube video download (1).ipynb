{
 "cells": [
  {
   "cell_type": "code",
   "execution_count": 1,
   "metadata": {},
   "outputs": [
    {
     "name": "stdout",
     "output_type": "stream",
     "text": [
      "Collecting pytube\n",
      "  Downloading pytube-10.0.0-py3-none-any.whl (40 kB)\n",
      "Requirement already satisfied: typing-extensions in c:\\users\\administrator\\anaconda3\\lib\\site-packages (from pytube) (3.7.4.3)\n",
      "Installing collected packages: pytube\n",
      "Successfully installed pytube-10.0.0\n"
     ]
    }
   ],
   "source": [
    "!pip install pytube"
   ]
  },
  {
   "cell_type": "code",
   "execution_count": 2,
   "metadata": {},
   "outputs": [],
   "source": [
    "import pytube"
   ]
  },
  {
   "cell_type": "code",
   "execution_count": 13,
   "metadata": {},
   "outputs": [],
   "source": [
    "from pytube import YouTube\n",
    "from tkinter import*"
   ]
  },
  {
   "cell_type": "code",
   "execution_count": 28,
   "metadata": {},
   "outputs": [
    {
     "name": "stderr",
     "output_type": "stream",
     "text": [
      "Exception in Tkinter callback\n",
      "Traceback (most recent call last):\n",
      "  File \"C:\\Users\\Administrator\\anaconda3\\lib\\tkinter\\__init__.py\", line 1883, in __call__\n",
      "    return self.func(*args)\n",
      "  File \"<ipython-input-28-7c149a8baa3b>\", line 6, in youtube\n",
      "    ytvideo = YouTube(a).streams.filter(file_extention=\"mp4\").order_by('resolution').desc().find()\n",
      "TypeError: filter() got an unexpected keyword argument 'file_extention'\n",
      "Exception in Tkinter callback\n",
      "Traceback (most recent call last):\n",
      "  File \"C:\\Users\\Administrator\\anaconda3\\lib\\tkinter\\__init__.py\", line 1883, in __call__\n",
      "    return self.func(*args)\n",
      "  File \"<ipython-input-28-7c149a8baa3b>\", line 6, in youtube\n",
      "    ytvideo = YouTube(a).streams.filter(file_extention=\"mp4\").order_by('resolution').desc().find()\n",
      "TypeError: filter() got an unexpected keyword argument 'file_extention'\n"
     ]
    }
   ],
   "source": [
    "root = Tk()\n",
    "root.geometry(\"300x400\")\n",
    "root.title(\"You tube video download\")\n",
    "def youtube():\n",
    "    a = var.get() #https://www.youtube.com/watch?v=0NV1KdWRHck&ab_channel=TED\n",
    "    ytvideo = YouTube(a).streams.filter(file_extention=\"mp4\").order_by('resolution').desc().find()\n",
    "    ytvideo.download(r\"C:\\Users\\Administrator\\Python Essential Classes-Letsupgrade\")\n",
    "    print(\"Entry box\",a)\n",
    "l1 = Label(root,text = \"YouTube Video link\",fg=\"Red\",font=(\"bold\",20))\n",
    "l1.place(x=30,y=20)\n",
    "var = StringVar()\n",
    "e1 = Entry(root,textvariable=var,width=60)\n",
    "e1.place(x=40,y=80)\n",
    "b1 = Button(root,text = \"Download\",command=youtube,bg=\"green\",width=20,fg=\"white\")\n",
    "b1.place(x=80,y=120)\n",
    "root.mainloop()"
   ]
  },
  {
   "cell_type": "code",
   "execution_count": null,
   "metadata": {},
   "outputs": [],
   "source": []
  }
 ],
 "metadata": {
  "kernelspec": {
   "display_name": "Python 3",
   "language": "python",
   "name": "python3"
  },
  "language_info": {
   "codemirror_mode": {
    "name": "ipython",
    "version": 3
   },
   "file_extension": ".py",
   "mimetype": "text/x-python",
   "name": "python",
   "nbconvert_exporter": "python",
   "pygments_lexer": "ipython3",
   "version": "3.8.5"
  }
 },
 "nbformat": 4,
 "nbformat_minor": 4
}
